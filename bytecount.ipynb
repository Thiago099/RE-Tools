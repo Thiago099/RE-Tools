{
 "cells": [
  {
   "cell_type": "code",
   "execution_count": 15,
   "metadata": {},
   "outputs": [],
   "source": [
    "import re\n",
    "import pandas as pd\n",
    "\n",
    "dfse = pd.read_csv(\"offsets-1.5.97.0.txt\", sep='\\t', header=None)\n",
    "dfse[0] = dfse[0].apply(lambda x: int(x))\n",
    "dfse[1] = dfse[1].apply(lambda x: int(x, 16))\n",
    "dfae = pd.read_csv(\"offsets-1.6.1170.txt\", sep='\\t', header=None)\n",
    "dfae[0] = dfae[0].apply(lambda x: int(x))\n",
    "dfae[1] = dfae[1].apply(lambda x: int(x, 16))\n",
    "def getAddress(input):\n",
    "    address = 0x140000000\n",
    "    pad = \"\"#\"0000000\"\n",
    "    result = pad+str(hex(address+input)).lstrip(\"0x\")\n",
    "    print(result)\n",
    "    return result\n",
    "\n",
    "## no longer needed you can get the offset by hovering over the address on ghidra\n",
    "# def hexLength(input): \n",
    "#     words = re.split(\"[ ]+\",input)\n",
    "#     result = hex(len(words)+1)\n",
    "#     print(result)\n",
    "#     return result\n",
    "\n",
    "def addressLibraryToMemory(input, ae = False):\n",
    "    df = dfae if ae else dfse\n",
    "    result = df[df[0] == input][1].iat[0]\n",
    "    print(hex(result))\n",
    "    return result\n",
    "\n",
    "def MemoryToAddressLibrary(input, ae = False):\n",
    "    df = dfae if ae else dfse\n",
    "    closest_match = df.iloc[(df[1] - input).abs().idxmin()]\n",
    "\n",
    "    is_exact_match = closest_match[1] == input\n",
    "    result = closest_match[0]\n",
    "    if is_exact_match:\n",
    "        print(\"address: \" + str(result))\n",
    "        print(\"offset: no offset needed\")\n",
    "        return result\n",
    "    else:\n",
    "        result = closest_match[0]\n",
    "        print(\"address: \" + str(result))\n",
    "        print(\"offset: \" + str(hex(input-closest_match[1])))\n",
    "\n"
   ]
  },
  {
   "cell_type": "code",
   "execution_count": 16,
   "metadata": {},
   "outputs": [
    {
     "name": "stdout",
     "output_type": "stream",
     "text": [
      "0x5e18b0\n",
      "1405e18b0\n"
     ]
    }
   ],
   "source": [
    "offset = addressLibraryToMemory(36457)\n",
    "address = getAddress(offset)"
   ]
  },
  {
   "cell_type": "code",
   "execution_count": 19,
   "metadata": {},
   "outputs": [
    {
     "name": "stdout",
     "output_type": "stream",
     "text": [
      "address: 36253\n",
      "offset: no offset needed\n"
     ]
    }
   ],
   "source": [
    "offset = MemoryToAddressLibrary(0x5d1280)"
   ]
  }
 ],
 "metadata": {
  "kernelspec": {
   "display_name": "torch",
   "language": "python",
   "name": "python3"
  },
  "language_info": {
   "codemirror_mode": {
    "name": "ipython",
    "version": 3
   },
   "file_extension": ".py",
   "mimetype": "text/x-python",
   "name": "python",
   "nbconvert_exporter": "python",
   "pygments_lexer": "ipython3",
   "version": "3.12.2"
  }
 },
 "nbformat": 4,
 "nbformat_minor": 2
}
