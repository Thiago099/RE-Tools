{
 "cells": [
  {
   "cell_type": "code",
   "execution_count": 44,
   "metadata": {},
   "outputs": [],
   "source": [
    "import re\n",
    "import pandas as pd\n",
    "\n",
    "df = pd.read_csv(\"offsets.txt\", sep='\\t', header=None)\n",
    "\n",
    "def getAddress(input):\n",
    "    address = 0x140000000\n",
    "    pad = \"0000000\"\n",
    "    result = pad+str(hex(address+input)).lstrip(\"0x\")\n",
    "    print(result)\n",
    "    return result\n",
    "\n",
    "def hexLength(input):\n",
    "    words = re.split(\"[ ]+\",input)\n",
    "    result = hex(len(words)+1)\n",
    "    print(result)\n",
    "    return result\n",
    "\n",
    "def addressLibraryToMemory(input):\n",
    "    result = df[df[0] == input][1].iat[0]\n",
    "    print(result)\n",
    "    return int(result,16)"
   ]
  },
  {
   "cell_type": "code",
   "execution_count": 34,
   "metadata": {},
   "outputs": [
    {
     "name": "stdout",
     "output_type": "stream",
     "text": [
      "0x22\n"
     ]
    }
   ],
   "source": [
    "length = hexLength(\"\"\"\n",
    "40 53 48 83 EC 30 48 3B  0D 8B 41 AC 02 48 8B D9\n",
    "0F 85 86 00 00 00 E8 F5  43 0C 00 84 C0 75 7D 48\n",
    "8B CB E8\n",
    "\"\"\")"
   ]
  },
  {
   "cell_type": "code",
   "execution_count": 35,
   "metadata": {},
   "outputs": [
    {
     "name": "stdout",
     "output_type": "stream",
     "text": [
      "00000001408c06d0\n"
     ]
    }
   ],
   "source": [
    "address = getAddress(0x8c06d0)"
   ]
  },
  {
   "cell_type": "code",
   "execution_count": 45,
   "metadata": {},
   "outputs": [
    {
     "name": "stdout",
     "output_type": "stream",
     "text": [
      "673500\n",
      "0000000140673500\n"
     ]
    }
   ],
   "source": [
    "offset = addressLibraryToMemory(37453)\n",
    "address = getAddress(offset)"
   ]
  }
 ],
 "metadata": {
  "kernelspec": {
   "display_name": "torch",
   "language": "python",
   "name": "python3"
  },
  "language_info": {
   "codemirror_mode": {
    "name": "ipython",
    "version": 3
   },
   "file_extension": ".py",
   "mimetype": "text/x-python",
   "name": "python",
   "nbconvert_exporter": "python",
   "pygments_lexer": "ipython3",
   "version": "3.12.2"
  }
 },
 "nbformat": 4,
 "nbformat_minor": 2
}
